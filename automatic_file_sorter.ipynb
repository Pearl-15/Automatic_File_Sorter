{
 "cells": [
  {
   "cell_type": "markdown",
   "metadata": {},
   "source": [
    "# Automatic File Sorter in File Explorer"
   ]
  },
  {
   "cell_type": "code",
   "execution_count": 1,
   "metadata": {},
   "outputs": [],
   "source": [
    "import os, shutil"
   ]
  },
  {
   "cell_type": "code",
   "execution_count": 2,
   "metadata": {},
   "outputs": [],
   "source": [
    "# read sorter directory as a raw string\n",
    "path = r\"/Users/pearlkhin/Documents/Automatic_File_Sorter/\""
   ]
  },
  {
   "cell_type": "code",
   "execution_count": null,
   "metadata": {},
   "outputs": [
    {
     "data": {
      "text/plain": [
       "['.DS_Store',\n",
       " 'hello_world.txt',\n",
       " 'Tableau Full Project.xlsx',\n",
       " 'Screenshot 2025-02-26 at 2.45.29\\u202fPM.png',\n",
       " 'fake_text.txt',\n",
       " 'Metro_invt_fs_uc_sfrcondo_sm_month.csv',\n",
       " 'Screenshot 2024-11-07 at 4.34.26\\u202fPM.png']"
      ]
     },
     "execution_count": 5,
     "metadata": {},
     "output_type": "execute_result"
    }
   ],
   "source": [
    "# list file names \n",
    "file_names = os.listdir(path)\n",
    "file_names"
   ]
  },
  {
   "cell_type": "code",
   "execution_count": 7,
   "metadata": {},
   "outputs": [],
   "source": [
    "# assign folder names\n",
    "folder_names = [ 'csv_files', 'image_files', 'excel_files', 'text_files']"
   ]
  },
  {
   "cell_type": "code",
   "execution_count": null,
   "metadata": {},
   "outputs": [],
   "source": [
    "# check the folder names \n",
    "# if there is folder has not been created, create folder\n",
    "\n",
    "for folder in folder_names:\n",
    "    folder_path = path + folder\n",
    "    if not os.path.exists( folder_path):\n",
    "        os.makedirs( folder_path)\n"
   ]
  },
  {
   "cell_type": "code",
   "execution_count": 10,
   "metadata": {},
   "outputs": [],
   "source": [
    "# function to move file\n",
    "def move_file( current_file_path, modified_file_path):\n",
    "    if not os.path.exists(modified_file_path):\n",
    "        shutil.move (current_file_path ,  modified_file_path)"
   ]
  },
  {
   "cell_type": "code",
   "execution_count": null,
   "metadata": {},
   "outputs": [],
   "source": [
    "# check files \n",
    "# based on the file extension and (if file is not exist in related folder) \n",
    "# move the file to related folder\n",
    "for file in file_names:\n",
    "\n",
    "    current_file_path = path + file\n",
    "\n",
    "    if '.csv' in file:\n",
    "        modified_file_path = path + \"csv_files/\" + file\n",
    "        move_file(current_file_path, modified_file_path)\n",
    "    elif '.png' in file:\n",
    "        modified_file_path = path + \"image_files/\" + file\n",
    "        move_file(current_file_path, modified_file_path)\n",
    "    elif '.xlsx' in file:\n",
    "        modified_file_path = path + \"excel_files/\" + file\n",
    "        move_file(current_file_path, modified_file_path)\n",
    "    elif '.txt' in file:\n",
    "        modified_file_path = path + \"text_files/\" +file\n",
    "        move_file(current_file_path, modified_file_path)"
   ]
  }
 ],
 "metadata": {
  "kernelspec": {
   "display_name": "Python 3",
   "language": "python",
   "name": "python3"
  },
  "language_info": {
   "codemirror_mode": {
    "name": "ipython",
    "version": 3
   },
   "file_extension": ".py",
   "mimetype": "text/x-python",
   "name": "python",
   "nbconvert_exporter": "python",
   "pygments_lexer": "ipython3",
   "version": "3.9.21"
  }
 },
 "nbformat": 4,
 "nbformat_minor": 2
}
